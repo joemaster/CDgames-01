{
 "metadata": {
  "language_info": {
   "codemirror_mode": {
    "name": "ipython",
    "version": 3
   },
   "file_extension": ".py",
   "mimetype": "text/x-python",
   "name": "python",
   "nbconvert_exporter": "python",
   "pygments_lexer": "ipython3",
   "version": 3
  },
  "orig_nbformat": 2
 },
 "nbformat": 4,
 "nbformat_minor": 2,
 "cells": [
  {
   "cell_type": "code",
   "execution_count": null,
   "metadata": {},
   "outputs": [],
   "source": [
    "import graphene\n",
    "\n",
    "class Query(graphene.ObjectType):\n",
    "  hello = graphene.String(name=graphene.String(default_value=\"World\"))\n",
    "\n",
    "  def resolve_hello(self, info, name):\n",
    "    return 'Hello ' + name\n",
    "\n",
    "schema = graphene.Schema(query=Query)\n",
    "result = schema.execute('{ hello }')\n",
    "print(result.data['hello']) # \"Hello World\""
   ]
  }
 ]
}